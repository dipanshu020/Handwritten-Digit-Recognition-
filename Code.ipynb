import numpy as np
import matplotlib.pyplot as plt
import cv2
import tensorflow as tf
from tensorflow.keras.datasets import mnist
from tensorflow.keras.models import Sequential
from tensorflow.keras.layers import Conv2D, MaxPooling2D, Flatten, Dense, Dropout
from tensorflow.keras.utils import to_categorical

# Load data
(x_train, y_train), (x_test, y_test) = mnist.load_data()

# Reshape to (28,28,1)
x_train = x_train.reshape(-1,28,28,1).astype("float32") / 255.0
x_test  = x_test.reshape(-1,28,28,1).astype("float32") / 255.0

# One-hot encode labels
y_train = to_categorical(y_train, 10)
y_test  = to_categorical(y_test, 10)


model = Sequential([
    Conv2D(32, (3,3), activation='relu', input_shape=(28,28,1)),
    MaxPooling2D((2,2)),
    Conv2D(64, (3,3), activation='relu'),
    MaxPooling2D((2,2)),
    Flatten(),
    Dense(128, activation='relu'),
    Dropout(0.5),
    Dense(10, activation='softmax')
])

model.compile(optimizer='adam',
              loss='categorical_crossentropy',
              metrics=['accuracy'])


model.fit(x_train, y_train, epochs=5, batch_size=128, validation_split=0.1)
model.evaluate(x_test, y_test)




# Load custom image (grayscale)
img = cv2.imread("seven.png", cv2.IMREAD_GRAYSCALE)

# Resize to 28x28
img = cv2.resize(img, (28,28))

# Invert if background is black and digit is white
img = cv2.bitwise_not(img)

# Normalize & reshape
img = img.astype("float32") / 255.0
img = img.reshape(1,28,28,1)

# Predict
prediction = model.predict(img)
print("Predicted Digit:", np.argmax(prediction))
